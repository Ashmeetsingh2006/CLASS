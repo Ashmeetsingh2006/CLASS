{
 "cells": [
  {
   "cell_type": "code",
   "execution_count": 6,
   "id": "dbf1afdc-d773-4661-b9ed-d4c98e916c58",
   "metadata": {},
   "outputs": [
    {
     "name": "stdout",
     "output_type": "stream",
     "text": [
      "[1, 2, 3]\n",
      "(1, 2, 3)\n"
     ]
    }
   ],
   "source": [
    "#Question number 1\n",
    "#LIST is mutable and is made using [] in python\n",
    "a = [1,2,3]\n",
    "print(a)\n",
    "\n",
    "\n",
    "#TUPLE is  immutable and is made using () in python\n",
    "b =  (1,2,3)\n",
    "print(b)"
   ]
  },
  {
   "cell_type": "code",
   "execution_count": null,
   "id": "abcf1c89-8a1b-447a-9c77-15ed13b2fc17",
   "metadata": {},
   "outputs": [],
   "source": [
    "#Question 2\n",
    "#  input() function in python is used to take the input from the user \n",
    "# syntax \n",
    "a = input('Enter your name') \n",
    "\n",
    "# It return string data type by default\n",
    "\n",
    "# If we want to convert it to an integer we have to write like\n",
    "a =  int(input('Enter your input'))"
   ]
  },
  {
   "cell_type": "code",
   "execution_count": 28,
   "id": "aaaffa76-f62d-4ef8-ab88-478f23cbb9df",
   "metadata": {},
   "outputs": [
    {
     "name": "stdout",
     "output_type": "stream",
     "text": [
      "{'a': 1, 'b': 2, 'c': 2}\n"
     ]
    }
   ],
   "source": [
    "#Question 3\n",
    "#Dictionary are the datatype in python . It is used to store the data in keys and value form\n",
    "#syntax and example of a dict\n",
    "dict = {\n",
    "    'a' : 1,\n",
    "    'b' : 2,\n",
    "    'c' : 2\n",
    "}\n",
    "print(dict)"
   ]
  },
  {
   "cell_type": "code",
   "execution_count": 14,
   "id": "075364b1-68a7-4ccd-af6b-4aea4a31f877",
   "metadata": {},
   "outputs": [
    {
     "name": "stdout",
     "output_type": "stream",
     "text": [
      "1\n",
      "2\n",
      "3\n",
      "4\n",
      "5\n"
     ]
    }
   ],
   "source": [
    "#Question 4\n",
    "# for loop in python is used to print elements in the range(we provide)\n",
    "for i in range(1,6):\n",
    "    print(i)"
   ]
  },
  {
   "cell_type": "code",
   "execution_count": null,
   "id": "0f895d93-407c-469d-94e9-2b4b634baf49",
   "metadata": {},
   "outputs": [],
   "source": [
    "#question  5 \n",
    "# Exception handling is python is used when we know that some part of the code will throw an error \n",
    "# Try - In try we write the part of the code where we doubt that it will throw an exception\n",
    "#except - Except block run after the try block when the try block is not able to handle the exception then the exception block run\n",
    "# finally block - This block always run wheather there is an exception or not\n",
    "age = '16'\n",
    "try:\n",
    "    if age==18:\n",
    "        print('User can vote')\n",
    "    else:\n",
    "        print('user cannot vote')\n",
    "except()"
   ]
  },
  {
   "cell_type": "code",
   "execution_count": 30,
   "id": "700fc346-4b3c-4a63-ad22-164ddce04a20",
   "metadata": {},
   "outputs": [
    {
     "data": {
      "text/plain": [
       "'for example we create a  file.py and we pass the user defined functions like prime number and fibonaccii\\nthen we can simply call the python module by just passing the code import file'"
      ]
     },
     "execution_count": 30,
     "metadata": {},
     "output_type": "execute_result"
    }
   ],
   "source": [
    "#Question 6 \n",
    "#there are 2 types of python modules \n",
    "# 1- the built in modules that are already defined by python  and we can install it using syntax(pip install pandas) and then we can import it (import pandas as pd)\n",
    "# 2- the user defined modules these modules are made by users as per there requirment \n",
    "'''for example we create a  file.py and we pass the user defined functions like prime number and fibonaccii\n",
    "then we can simply call the python module by just passing the code import file''' \n",
    "\n",
    "# import module will provide us all the math functions that are defined in the math module\n",
    "#\n",
    "#from maths import sqrt  - in this we will be able to use only the sqrt function \n",
    "\n",
    "\n"
   ]
  },
  {
   "cell_type": "code",
   "execution_count": null,
   "id": "3d644918-82f5-4272-b33b-8cce0df45fdf",
   "metadata": {},
   "outputs": [],
   "source": [
    "#Question 8\n",
    "#oops \n",
    "there are 4 pillars of oops \n",
    "encapsulisation\n",
    "abstraction\n",
    "polymorphism\n",
    "inheritence\n",
    "\n",
    "\n",
    "\n",
    "#classes are the blue print \n",
    "#objects are the values"
   ]
  },
  {
   "cell_type": "code",
   "execution_count": 34,
   "id": "3818e85e-9461-445b-9aa5-bc1c273708f3",
   "metadata": {},
   "outputs": [
    {
     "name": "stdin",
     "output_type": "stream",
     "text": [
      "Enter your radius 5\n"
     ]
    },
    {
     "name": "stdout",
     "output_type": "stream",
     "text": [
      "15.700000000000001\n"
     ]
    }
   ],
   "source": [
    "#Question9\n",
    "\n",
    "def calculate_are():\n",
    "    r = int(input('Enter your radius'))\n",
    "    pie = 3.14\n",
    "    area = pie * r\n",
    "    print(area)\n",
    "\n",
    "calculate_are()"
   ]
  },
  {
   "cell_type": "code",
   "execution_count": 52,
   "id": "1c00be90-4463-4340-81ad-73c7e5676eb3",
   "metadata": {},
   "outputs": [
    {
     "name": "stdout",
     "output_type": "stream",
     "text": [
      "Helloooo  Ash  you are 15 years old \n"
     ]
    }
   ],
   "source": [
    "#question 10\n",
    "def greet(name,age):\n",
    "    print(f'Helloooo  {name }  you are {age} years old ')\n",
    "\n",
    "\n",
    "greet('Ash',15)"
   ]
  },
  {
   "cell_type": "code",
   "execution_count": 48,
   "id": "e8a34829-2dbd-4270-8d36-e001102a2319",
   "metadata": {},
   "outputs": [
    {
     "name": "stdout",
     "output_type": "stream",
     "text": [
      "Apple\n",
      "Berries\n",
      "mango\n",
      "Banana\n",
      "Papaya\n"
     ]
    }
   ],
   "source": [
    "#question 11 \n",
    "lis = ['Apple','Berries','mango','Banana','Papaya']\n",
    "for i in lis:\n",
    "    print(f'{i}')"
   ]
  },
  {
   "cell_type": "code",
   "execution_count": 80,
   "id": "974c551a-026b-46b7-b3ce-12c37c5f5881",
   "metadata": {},
   "outputs": [
    {
     "name": "stdin",
     "output_type": "stream",
     "text": [
      "Enter your maths marks 91\n",
      "Enter your english marks 91\n",
      "Enter your hindi marks 91\n",
      "Enter your french marks 91\n"
     ]
    },
    {
     "name": "stdout",
     "output_type": "stream",
     "text": [
      "91.0\n",
      "Grade A\n"
     ]
    }
   ],
   "source": [
    "#Question 12\n",
    "def grade_calculator():\n",
    "    maths = int(input('Enter your maths marks'))\n",
    "    english = int(input('Enter your english marks'))\n",
    "    hindi = int(input('Enter your hindi marks'))\n",
    "    french = int(input('Enter your french marks'))\n",
    "    final_score = (maths+english+hindi+french)/4\n",
    "    print(final_score)\n",
    "\n",
    "    if 90 < final_score < 100 :\n",
    "        print('Grade A')\n",
    "    elif 80 < final_score < 89:\n",
    "        print('Grade b')\n",
    "    elif 70 < final_score < 79:\n",
    "        print('Grade c')\n",
    "    elif 60 < final_score < 69:\n",
    "        print('Grade d')\n",
    "    else:\n",
    "        print('Grade E ')\n",
    "\n",
    "grade_calculator()\n"
   ]
  },
  {
   "cell_type": "code",
   "execution_count": 88,
   "id": "2be675c7-8f17-4610-9a51-57c8da926416",
   "metadata": {},
   "outputs": [],
   "source": [
    "#question 14\n",
    "class BankAccount:\n",
    "    \n",
    "    def __init__(self):\n",
    "        self.accountholder = 'Ashmeet singh'\n",
    "        self.starting_balance = 5000\n",
    "        print('hello ashmeet')\n",
    "    def deposit_money(self,balance):\n",
    "        self.starting_balance + self.balance\n",
    "\n",
    "    def withdraw_money(self):\n",
    "        pass\n",
    "    def check_currenct_balance():\n",
    "        pass\n",
    "        "
   ]
  },
  {
   "cell_type": "code",
   "execution_count": 90,
   "id": "b4edcbbb-01e3-482d-9686-957c67f54b69",
   "metadata": {},
   "outputs": [
    {
     "name": "stdout",
     "output_type": "stream",
     "text": [
      "hello ashmeet\n"
     ]
    }
   ],
   "source": [
    "a = BankAccount()"
   ]
  },
  {
   "cell_type": "code",
   "execution_count": null,
   "id": "4dc0b932-16c8-47d7-8c73-a915831f5119",
   "metadata": {},
   "outputs": [],
   "source": []
  }
 ],
 "metadata": {
  "kernelspec": {
   "display_name": "Python [conda env:base] *",
   "language": "python",
   "name": "conda-base-py"
  },
  "language_info": {
   "codemirror_mode": {
    "name": "ipython",
    "version": 3
   },
   "file_extension": ".py",
   "mimetype": "text/x-python",
   "name": "python",
   "nbconvert_exporter": "python",
   "pygments_lexer": "ipython3",
   "version": "3.11.7"
  },
  "widgets": {
   "application/vnd.jupyter.widget-state+json": {
    "state": {},
    "version_major": 2,
    "version_minor": 0
   }
  }
 },
 "nbformat": 4,
 "nbformat_minor": 5
}
